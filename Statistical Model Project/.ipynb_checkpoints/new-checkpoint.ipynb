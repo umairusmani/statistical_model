{
 "cells": [
  {
   "cell_type": "code",
   "execution_count": null,
   "metadata": {},
   "outputs": [],
   "source": []
  },
  {
   "cell_type": "code",
   "execution_count": 1,
   "metadata": {},
   "outputs": [],
   "source": [
    "import sqlite3\n",
    "def config():\n",
    "    try:\n",
    "        conn = sqlite3.connect('public.db')\n",
    "        return conn\n",
    "    except:\n",
    "        return None"
   ]
  },
  {
   "cell_type": "code",
   "execution_count": 2,
   "metadata": {},
   "outputs": [],
   "source": [
    "conn = config()"
   ]
  },
  {
   "cell_type": "code",
   "execution_count": null,
   "metadata": {},
   "outputs": [],
   "source": []
  },
  {
   "cell_type": "code",
   "execution_count": null,
   "metadata": {},
   "outputs": [],
   "source": []
  },
  {
   "cell_type": "code",
   "execution_count": 4,
   "metadata": {},
   "outputs": [],
   "source": [
    "import sqlparse\n",
    "def create_table(path=\"./Data Model & Schema/Database-A.sql\"):\n",
    "    cur = None\n",
    "    table_str = \"\"\n",
    "    with open(path) as schema_file:\n",
    "        create_table = schema_file.readlines()\n",
    "        validation_string = \"\".join(create_table).replace('\"','')\n",
    "        try:\n",
    "            validation_string = sqlparse.parse(validation_string)\n",
    "        except Exception as e:\n",
    "            print(\"Bad Statement : \",e )\n",
    "        try:\n",
    "            conn = config()\n",
    "        except:\n",
    "            return cur\n",
    "        cur = conn.cursor()\n",
    "        for table in validation_string:\n",
    "            try:\n",
    "                print(type(table))\n",
    "                cur.execute(str(table))\n",
    "            except Exception as e:\n",
    "                print(\"error in creating table\")\n",
    "                print(e)\n",
    "    return cur\n",
    "    "
   ]
  },
  {
   "cell_type": "code",
   "execution_count": null,
   "metadata": {},
   "outputs": [],
   "source": []
  },
  {
   "cell_type": "code",
   "execution_count": 5,
   "metadata": {},
   "outputs": [
    {
     "name": "stdout",
     "output_type": "stream",
     "text": [
      "<class 'sqlparse.sql.Statement'>\n",
      "<class 'sqlparse.sql.Statement'>\n",
      "<class 'sqlparse.sql.Statement'>\n"
     ]
    }
   ],
   "source": [
    "cursor = create_table()"
   ]
  },
  {
   "cell_type": "code",
   "execution_count": 8,
   "metadata": {},
   "outputs": [],
   "source": [
    "import pandas as pd"
   ]
  },
  {
   "cell_type": "code",
   "execution_count": null,
   "metadata": {},
   "outputs": [],
   "source": [
    "ref_sensor = pd.r"
   ]
  },
  {
   "cell_type": "code",
   "execution_count": null,
   "metadata": {},
   "outputs": [],
   "source": [
    "con = con.cursor()\n",
    "cur.execute()"
   ]
  }
 ],
 "metadata": {
  "kernelspec": {
   "display_name": "Python 3",
   "language": "python",
   "name": "python3"
  },
  "language_info": {
   "codemirror_mode": {
    "name": "ipython",
    "version": 3
   },
   "file_extension": ".py",
   "mimetype": "text/x-python",
   "name": "python",
   "nbconvert_exporter": "python",
   "pygments_lexer": "ipython3",
   "version": "3.7.4"
  }
 },
 "nbformat": 4,
 "nbformat_minor": 2
}
